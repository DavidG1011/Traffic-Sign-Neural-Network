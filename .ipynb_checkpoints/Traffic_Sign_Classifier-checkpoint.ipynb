{
 "cells": [
  {
   "cell_type": "markdown",
   "metadata": {},
   "source": [
    "# Self-Driving Car Engineer Nanodegree\n",
    "\n",
    "## Deep Learning\n",
    "\n",
    "## Project: Build a Traffic Sign Recognition Classifier\n",
    "\n",
    "In this notebook, a template is provided for you to implement your functionality in stages, which is required to successfully complete this project. If additional code is required that cannot be included in the notebook, be sure that the Python code is successfully imported and included in your submission if necessary. \n",
    "\n",
    "> **Note**: Once you have completed all of the code implementations, you need to finalize your work by exporting the iPython Notebook as an HTML document. Before exporting the notebook to html, all of the code cells need to have been run so that reviewers can see the final implementation and output. You can then export the notebook by using the menu above and navigating to  \\n\",\n",
    "    \"**File -> Download as -> HTML (.html)**. Include the finished document along with this notebook as your submission. \n",
    "\n",
    "In addition to implementing code, there is a writeup to complete. The writeup should be completed in a separate file, which can be either a markdown file or a pdf document. There is a [write up template](https://github.com/udacity/CarND-Traffic-Sign-Classifier-Project/blob/master/writeup_template.md) that can be used to guide the writing process. Completing the code template and writeup template will cover all of the [rubric points](https://review.udacity.com/#!/rubrics/481/view) for this project.\n",
    "\n",
    "The [rubric](https://review.udacity.com/#!/rubrics/481/view) contains \"Stand Out Suggestions\" for enhancing the project beyond the minimum requirements. The stand out suggestions are optional. If you decide to pursue the \"stand out suggestions\", you can include the code in this Ipython notebook and also discuss the results in the writeup file.\n",
    "\n",
    "\n",
    ">**Note:** Code and Markdown cells can be executed using the **Shift + Enter** keyboard shortcut. In addition, Markdown cells can be edited by typically double-clicking the cell to enter edit mode."
   ]
  },
  {
   "cell_type": "markdown",
   "metadata": {},
   "source": [
    "---\n",
    "## Step 0: Load The Data"
   ]
  },
  {
   "cell_type": "code",
   "execution_count": 1,
   "metadata": {},
   "outputs": [
    {
     "name": "stdout",
     "output_type": "stream",
     "text": [
      "Done\n"
     ]
    }
   ],
   "source": [
    "# Load pickled data\n",
    "import pickle\n",
    "import csv\n",
    "\n",
    "training_file = \"train.p\"\n",
    "validation_file= \"valid.p\"\n",
    "testing_file = \"test.p\"\n",
    "\n",
    "with open(training_file, mode='rb') as f:\n",
    "    train = pickle.load(f)\n",
    "with open(validation_file, mode='rb') as f:\n",
    "    valid = pickle.load(f)\n",
    "with open(testing_file, mode='rb') as f:\n",
    "    test = pickle.load(f)\n",
    "    \n",
    "X_train, y_train = train['features'], train['labels']\n",
    "X_valid, y_valid = valid['features'], valid['labels']\n",
    "X_test, y_test = test['features'], test['labels']\n",
    "\n",
    "with open('signnames.csv', 'r') as f:\n",
    "    reader = csv.reader(f)\n",
    "    signClassList = list(reader)\n",
    "print(\"Done\")"
   ]
  },
  {
   "cell_type": "markdown",
   "metadata": {},
   "source": [
    "---\n",
    "\n",
    "## Step 1: Dataset Summary & Exploration\n",
    "\n",
    "The pickled data is a dictionary with 4 key/value pairs:\n",
    "\n",
    "- `'features'` is a 4D array containing raw pixel data of the traffic sign images, (num examples, width, height, channels).\n",
    "- `'labels'` is a 1D array containing the label/class id of the traffic sign. The file `signnames.csv` contains id -> name mappings for each id.\n",
    "- `'sizes'` is a list containing tuples, (width, height) representing the original width and height the image.\n",
    "- `'coords'` is a list containing tuples, (x1, y1, x2, y2) representing coordinates of a bounding box around the sign in the image. **THESE COORDINATES ASSUME THE ORIGINAL IMAGE. THE PICKLED DATA CONTAINS RESIZED VERSIONS (32 by 32) OF THESE IMAGES**\n",
    "\n",
    "Complete the basic data summary below. Use python, numpy and/or pandas methods to calculate the data summary rather than hard coding the results. For example, the [pandas shape method](http://pandas.pydata.org/pandas-docs/stable/generated/pandas.DataFrame.shape.html) might be useful for calculating some of the summary results. "
   ]
  },
  {
   "cell_type": "markdown",
   "metadata": {},
   "source": [
    "### Provide a Basic Summary of the Data Set Using Python, Numpy and/or Pandas"
   ]
  },
  {
   "cell_type": "code",
   "execution_count": 2,
   "metadata": {},
   "outputs": [
    {
     "name": "stdout",
     "output_type": "stream",
     "text": [
      "Number of training examples = 34799\n",
      "Number of testing examples = 12630\n",
      "Number of validation examples = 4410\n",
      "Image data shape = (32, 32, 3)\n",
      "Number of classes = 43\n"
     ]
    }
   ],
   "source": [
    "### Replace each question mark with the appropriate value. \n",
    "### Use python, pandas or numpy methods rather than hard coding the results\n",
    "import numpy as np\n",
    "\n",
    "# TODO: Number of training examples\n",
    "n_train = len(X_train)\n",
    "\n",
    "# TODO: Number of validation examples\n",
    "n_validation = len(X_valid)\n",
    "\n",
    "# TODO: Number of testing examples.\n",
    "n_test = len(X_test)\n",
    "\n",
    "# TODO: What's the shape of an traffic sign image?\n",
    "image_shape = X_train[0].shape\n",
    "\n",
    "# TODO: How many unique classes/labels there are in the dataset.\n",
    "n_classes = len(np.unique(y_train))\n",
    "\n",
    "print(\"Number of training examples =\", n_train)\n",
    "print(\"Number of testing examples =\", n_test)\n",
    "print(\"Number of validation examples =\", n_validation)\n",
    "print(\"Image data shape =\", image_shape)\n",
    "print(\"Number of classes =\", n_classes)"
   ]
  },
  {
   "cell_type": "markdown",
   "metadata": {},
   "source": [
    "### Include an exploratory visualization of the dataset"
   ]
  },
  {
   "cell_type": "markdown",
   "metadata": {},
   "source": [
    "Visualize the German Traffic Signs Dataset using the pickled file(s). This is open ended, suggestions include: plotting traffic sign images, plotting the count of each sign, etc. \n",
    "\n",
    "The [Matplotlib](http://matplotlib.org/) [examples](http://matplotlib.org/examples/index.html) and [gallery](http://matplotlib.org/gallery.html) pages are a great resource for doing visualizations in Python.\n",
    "\n",
    "**NOTE:** It's recommended you start with something simple first. If you wish to do more, come back to it after you've completed the rest of the sections. It can be interesting to look at the distribution of classes in the training, validation and test set. Is the distribution the same? Are there more examples of some classes than others?"
   ]
  },
  {
   "cell_type": "code",
   "execution_count": 3,
   "metadata": {},
   "outputs": [
    {
     "data": {
      "image/png": "[encoded data removed]",
      "text/plain": [
       "<matplotlib.figure.Figure at 0x1f658139048>"
      ]
     },
     "metadata": {},
     "output_type": "display_data"
    },
    {
     "data": {
      "image/png": "[encoded data removed]",
      "text/plain": [
       "<matplotlib.figure.Figure at 0x1f658f20eb8>"
      ]
     },
     "metadata": {},
     "output_type": "display_data"
    },
    {
     "data": {
      "image/png": "[encoded data removed]",
      "text/plain": [
       "<matplotlib.figure.Figure at 0x1f658f18860>"
      ]
     },
     "metadata": {},
     "output_type": "display_data"
    }
   ],
   "source": [
    "### Data exploration visualization code goes here.\n",
    "### Feel free to use as many code cells as needed.\n",
    "import matplotlib.pyplot as plt\n",
    "# Visualizations will be shown in the notebook.\n",
    "y_switch = [y_train,y_valid,y_test,[\"Training\",\"Validation\",\"Testing\"]]\n",
    "\n",
    "for count in range(0,3):\n",
    "    x, y= np.unique(y_switch[count], return_counts=True)\n",
    "    plt.bar(x,y)\n",
    "    plt.title(y_switch[3][count] +' Signs')\n",
    "    plt.xlabel('Class')\n",
    "    plt.ylabel('Examples')\n",
    "    plt.show()\n",
    "\n",
    "%matplotlib inline"
   ]
  },
  {
   "cell_type": "markdown",
   "metadata": {},
   "source": [
    "----\n",
    "\n",
    "## Step 2: Design and Test a Model Architecture\n",
    "\n",
    "Design and implement a deep learning model that learns to recognize traffic signs. Train and test your model on the [German Traffic Sign Dataset](http://benchmark.ini.rub.de/?section=gtsrb&subsection=dataset).\n",
    "\n",
    "The LeNet-5 implementation shown in the [classroom](https://classroom.udacity.com/nanodegrees/nd013/parts/fbf77062-5703-404e-b60c-95b78b2f3f9e/modules/6df7ae49-c61c-4bb2-a23e-6527e69209ec/lessons/601ae704-1035-4287-8b11-e2c2716217ad/concepts/d4aca031-508f-4e0b-b493-e7b706120f81) at the end of the CNN lesson is a solid starting point. You'll have to change the number of classes and possibly the preprocessing, but aside from that it's plug and play! \n",
    "\n",
    "With the LeNet-5 solution from the lecture, you should expect a validation set accuracy of about 0.89. To meet specifications, the validation set accuracy will need to be at least 0.93. It is possible to get an even higher accuracy, but 0.93 is the minimum for a successful project submission. \n",
    "\n",
    "There are various aspects to consider when thinking about this problem:\n",
    "\n",
    "- Neural network architecture (is the network over or underfitting?)\n",
    "- Play around preprocessing techniques (normalization, rgb to grayscale, etc)\n",
    "- Number of examples per label (some have more than others).\n",
    "- Generate fake data.\n",
    "\n",
    "Here is an example of a [published baseline model on this problem](http://yann.lecun.com/exdb/publis/pdf/sermanet-ijcnn-11.pdf). It's not required to be familiar with the approach used in the paper but, it's good practice to try to read papers like these."
   ]
  },
  {
   "cell_type": "markdown",
   "metadata": {},
   "source": [
    "### Pre-process the Data Set (normalization, grayscale, etc.)"
   ]
  },
  {
   "cell_type": "markdown",
   "metadata": {},
   "source": [
    "Minimally, the image data should be normalized so that the data has mean zero and equal variance. For image data, `(pixel - 128)/ 128` is a quick way to approximately normalize the data and can be used in this project. \n",
    "\n",
    "Other pre-processing steps are optional. You can try different techniques to see if it improves performance. \n",
    "\n",
    "Use the code cell (or multiple code cells, if necessary) to implement the first step of your project."
   ]
  },
  {
   "cell_type": "code",
   "execution_count": 4,
   "metadata": {
    "collapsed": true
   },
   "outputs": [],
   "source": [
    "### Preprocess the data here. It is required to normalize the data. Other preprocessing steps could include \n",
    "### converting to grayscale, etc.\n",
    "### Feel free to use as many code cells as needed.\n",
    "\n",
    "xTrainGray = np.sum(X_train/3, axis=3, keepdims=True)\n",
    "xTrainNormalize = (xTrainGray - 128.)/128.\n",
    "\n",
    "xValidGray = np.sum(X_valid/3, axis=3, keepdims=True)\n",
    "xValidNormalize = (xValidGray - 128.)/128.\n",
    "\n",
    "xTestGray = np.sum(X_test/3, axis=3, keepdims=True)\n",
    "xTestNormalize = (xTestGray - 128.)/128.\n",
    "\n",
    "X_train = xTrainNormalize\n",
    "X_valid = xValidNormalize\n",
    "X_test = xTestNormalize"
   ]
  },
  {
   "cell_type": "markdown",
   "metadata": {},
   "source": [
    "### Model Architecture - Modified LeNet 5 - http://yann.lecun.com/exdb/lenet/"
   ]
  },
  {
   "cell_type": "code",
   "execution_count": 5,
   "metadata": {
    "collapsed": true
   },
   "outputs": [],
   "source": [
    "import tensorflow as tf\n",
    "from tensorflow.contrib.layers import flatten\n",
    "from sklearn.utils import shuffle"
   ]
  },
  {
   "cell_type": "code",
   "execution_count": 6,
   "metadata": {},
   "outputs": [
    {
     "name": "stdout",
     "output_type": "stream",
     "text": [
      "Shuffled\n"
     ]
    }
   ],
   "source": [
    "X_train, y_train = shuffle(X_train, y_train)\n",
    "print(\"Shuffled\")"
   ]
  },
  {
   "cell_type": "code",
   "execution_count": 7,
   "metadata": {
    "collapsed": true
   },
   "outputs": [],
   "source": [
    "#Paramaters\n",
    "'''\n",
    "#96.4%\n",
    "EPOCHS = 50\n",
    "BATCH_SIZE = 1000\n",
    "RATE = 0.002\n",
    "KEEP_PROB = 0.5\n",
    "'''\n",
    "\n",
    "EPOCHS = 100\n",
    "BATCH_SIZE = 1000\n",
    "LEARN_RATE = 0.002\n",
    "KEEP_PROB = 0.5"
   ]
  },
  {
   "cell_type": "code",
   "execution_count": 8,
   "metadata": {
    "collapsed": true
   },
   "outputs": [],
   "source": [
    "def LeDaveNet(conv):\n",
    "    \n",
    "    MEAN = 0\n",
    "    STDDEV = 0.1\n",
    "    \n",
    "    #Convolution 1: In = (32,32,1) Out = (28,28,6)\n",
    "    weight1 = tf.Variable(tf.truncated_normal(shape=(5, 5, 1, 6), mean = MEAN, stddev = STDDEV))\n",
    "    bias1 = tf.Variable(tf.zeros(6))\n",
    "    conv = tf.nn.conv2d(conv, weight1, strides=[1, 1, 1, 1], padding='VALID')\n",
    "    conv = tf.nn.bias_add(conv, bias1)\n",
    "    \n",
    "    #Activation:\n",
    "    conv = tf.nn.relu(conv)\n",
    "    \n",
    "    #Max Pooling: In = (28,28,6) Out = (14,14,6)\n",
    "    conv = tf.nn.max_pool(conv, ksize=[1, 2, 2, 1], strides=[1, 2, 2, 1], padding='VALID')\n",
    "    \n",
    "    #Convolution 2: In = (14,14,6) Out = (10,10,16)\n",
    "    weight2 = tf.Variable(tf.truncated_normal(shape=(5, 5, 6, 16), mean = MEAN, stddev = STDDEV))\n",
    "    bias2 = tf.Variable(tf.zeros(16))\n",
    "    conv = tf.nn.conv2d(conv, weight2, strides=[1, 1, 1, 1], padding='VALID')\n",
    "    conv = tf.nn.bias_add(conv, bias2)\n",
    "    \n",
    "    #Activation:\n",
    "    conv = tf.nn.relu(conv)\n",
    "    \n",
    "    #Max Pooling: In = (10,10,16) Out = (5,5,16)\n",
    "    conv = tf.nn.max_pool(conv, ksize=[1, 2, 2, 1], strides=[1, 2, 2, 1], padding='VALID')\n",
    "    \n",
    "    #Flatten: In = (5,5,16) Out = (400)\n",
    "    conv = flatten(conv)\n",
    "    \n",
    "    #Convolution 3, flat: In = (400) Out = (120)\n",
    "    weight3 = tf.Variable(tf.truncated_normal(shape=(400, 120), mean = MEAN, stddev = STDDEV))\n",
    "    bias3 = tf.Variable(tf.zeros(120))    \n",
    "    conv = tf.add(tf.matmul(conv, weight3), bias3)\n",
    "    \n",
    "    #Activation:\n",
    "    conv = tf.nn.relu(conv)\n",
    "    \n",
    "    #Dropout:\n",
    "    conv = tf.nn.dropout(conv, keepProb)\n",
    "    \n",
    "    #Convolution 4, flat: In = (120) Out = (84)\n",
    "    weight4 = tf.Variable(tf.truncated_normal(shape=(120, 84), mean = MEAN, stddev = STDDEV))\n",
    "    bias4 = tf.Variable(tf.zeros(84)) \n",
    "    conv = tf.add(tf.matmul(conv, weight4), bias4)\n",
    "    \n",
    "    #Activation:\n",
    "    conv = tf.nn.relu(conv)\n",
    "    \n",
    "    #Dropout:\n",
    "    conv = tf.nn.dropout(conv, keepProb)\n",
    "    \n",
    "    #Convolution 5, flat: In = (84) Out = (43)\n",
    "    weight5 = tf.Variable(tf.truncated_normal(shape=(84, 43), mean = MEAN, stddev = STDDEV))\n",
    "    bias5 = tf.Variable(tf.zeros(43)) \n",
    "    logits = tf.add(tf.matmul(conv, weight5), bias5)\n",
    "    \n",
    "    return logits"
   ]
  },
  {
   "cell_type": "code",
   "execution_count": 9,
   "metadata": {
    "collapsed": true
   },
   "outputs": [],
   "source": [
    "x = tf.placeholder(tf.float32, (None, 32, 32, 1))\n",
    "y = tf.placeholder(tf.int32, (None))\n",
    "keepProb = tf.placeholder(tf.float32)\n",
    "oneHotY = tf.one_hot(y, 43)"
   ]
  },
  {
   "cell_type": "code",
   "execution_count": 10,
   "metadata": {
    "collapsed": true
   },
   "outputs": [],
   "source": [
    "logits = LeDaveNet(x)\n",
    "crossEntropy = tf.nn.softmax_cross_entropy_with_logits(logits = logits, labels = oneHotY)\n",
    "lossOperation = tf.reduce_mean(crossEntropy)\n",
    "optimizer = tf.train.AdamOptimizer(learning_rate = LEARN_RATE)\n",
    "trainingOperation = optimizer.minimize(lossOperation)\n",
    "correctPrediction = tf.equal(tf.argmax(logits, 1), tf.argmax(oneHotY, 1))\n",
    "accuracyOperation = tf.reduce_mean(tf.cast(correctPrediction, tf.float32))\n",
    "saver = tf.train.Saver()"
   ]
  },
  {
   "cell_type": "code",
   "execution_count": 11,
   "metadata": {
    "collapsed": true
   },
   "outputs": [],
   "source": [
    "##All evaluation code referenced from Lesson 8, Part36 solution: \n",
    "##https://github.com/udacity/CarND-LeNet-Lab/blob/master/LeNet-Lab-Solution.ipynb\n",
    "\n",
    "def evaluate(xData, yData):\n",
    "    numExamples = len(xData)\n",
    "    totalAccuracy = 0\n",
    "    sess = tf.get_default_session()\n",
    "    for offset in range(0, numExamples, BATCH_SIZE):\n",
    "        xBatch, yBatch = xData[offset:offset+BATCH_SIZE], yData[offset:offset+BATCH_SIZE]\n",
    "        accuracy = sess.run(accuracyOperation, feed_dict={x: xBatch, y: yBatch, keepProb: 1.0})\n",
    "        totalAccuracy += (accuracy * len(xBatch))\n",
    "    return totalAccuracy / numExamples"
   ]
  },
  {
   "cell_type": "code",
   "execution_count": 12,
   "metadata": {},
   "outputs": [
    {
     "name": "stdout",
     "output_type": "stream",
     "text": [
      "Training...\n",
      "\n",
      "EPOCH 1 ...\n",
      "Validation Accuracy = 21.156%\n",
      "\n",
      "EPOCH 2 ...\n",
      "Validation Accuracy = 49.615%\n",
      "\n",
      "EPOCH 3 ...\n",
      "Validation Accuracy = 68.367%\n",
      "\n",
      "EPOCH 4 ...\n",
      "Validation Accuracy = 78.095%\n",
      "\n",
      "EPOCH 5 ...\n",
      "Validation Accuracy = 82.766%\n",
      "\n",
      "EPOCH 6 ...\n",
      "Validation Accuracy = 85.147%\n",
      "\n",
      "EPOCH 7 ...\n",
      "Validation Accuracy = 86.531%\n",
      "\n",
      "EPOCH 8 ...\n",
      "Validation Accuracy = 87.778%\n",
      "\n",
      "EPOCH 9 ...\n",
      "Validation Accuracy = 87.846%\n",
      "\n",
      "EPOCH 10 ...\n",
      "Validation Accuracy = 90.023%\n",
      "\n",
      "EPOCH 11 ...\n",
      "Validation Accuracy = 90.612%\n",
      "\n",
      "EPOCH 12 ...\n",
      "Validation Accuracy = 91.134%\n",
      "\n",
      "EPOCH 13 ...\n",
      "Validation Accuracy = 90.816%\n",
      "\n",
      "EPOCH 14 ...\n",
      "Validation Accuracy = 91.746%\n",
      "\n",
      "EPOCH 15 ...\n",
      "Validation Accuracy = 92.177%\n",
      "\n",
      "EPOCH 16 ...\n",
      "Validation Accuracy = 93.379%\n",
      "\n",
      "EPOCH 17 ...\n",
      "Validation Accuracy = 93.424%\n",
      "\n",
      "EPOCH 18 ...\n",
      "Validation Accuracy = 93.356%\n",
      "\n",
      "EPOCH 19 ...\n",
      "Validation Accuracy = 93.696%\n",
      "\n",
      "EPOCH 20 ...\n",
      "Validation Accuracy = 93.288%\n",
      "\n",
      "EPOCH 21 ...\n",
      "Validation Accuracy = 93.878%\n",
      "\n",
      "EPOCH 22 ...\n",
      "Validation Accuracy = 94.104%\n",
      "\n",
      "EPOCH 23 ...\n",
      "Validation Accuracy = 93.719%\n",
      "\n",
      "EPOCH 24 ...\n",
      "Validation Accuracy = 94.127%\n",
      "\n",
      "EPOCH 25 ...\n",
      "Validation Accuracy = 94.512%\n",
      "\n",
      "EPOCH 26 ...\n",
      "Validation Accuracy = 94.399%\n",
      "\n",
      "EPOCH 27 ...\n",
      "Validation Accuracy = 94.649%\n",
      "\n",
      "EPOCH 28 ...\n",
      "Validation Accuracy = 94.785%\n",
      "\n",
      "EPOCH 29 ...\n",
      "Validation Accuracy = 94.989%\n",
      "\n",
      "EPOCH 30 ...\n",
      "Validation Accuracy = 95.057%\n",
      "\n",
      "EPOCH 31 ...\n",
      "Validation Accuracy = 94.399%\n",
      "\n",
      "EPOCH 32 ...\n",
      "Validation Accuracy = 94.739%\n",
      "\n",
      "EPOCH 33 ...\n",
      "Validation Accuracy = 95.215%\n",
      "\n",
      "EPOCH 34 ...\n",
      "Validation Accuracy = 94.762%\n",
      "\n",
      "EPOCH 35 ...\n",
      "Validation Accuracy = 95.125%\n",
      "\n",
      "EPOCH 36 ...\n",
      "Validation Accuracy = 94.785%\n",
      "\n",
      "EPOCH 37 ...\n",
      "Validation Accuracy = 94.943%\n",
      "\n",
      "EPOCH 38 ...\n",
      "Validation Accuracy = 94.943%\n",
      "\n",
      "EPOCH 39 ...\n",
      "Validation Accuracy = 94.762%\n",
      "\n",
      "EPOCH 40 ...\n",
      "Validation Accuracy = 94.649%\n",
      "\n",
      "EPOCH 41 ...\n",
      "Validation Accuracy = 94.966%\n",
      "\n",
      "EPOCH 42 ...\n",
      "Validation Accuracy = 95.170%\n",
      "\n",
      "EPOCH 43 ...\n",
      "Validation Accuracy = 94.921%\n",
      "\n",
      "EPOCH 44 ...\n",
      "Validation Accuracy = 95.442%\n",
      "\n",
      "EPOCH 45 ...\n",
      "Validation Accuracy = 95.261%\n",
      "\n",
      "EPOCH 46 ...\n",
      "Validation Accuracy = 95.283%\n",
      "\n",
      "EPOCH 47 ...\n",
      "Validation Accuracy = 95.215%\n",
      "\n",
      "EPOCH 48 ...\n",
      "Validation Accuracy = 95.873%\n",
      "\n",
      "EPOCH 49 ...\n",
      "Validation Accuracy = 95.261%\n",
      "\n",
      "EPOCH 50 ...\n",
      "Validation Accuracy = 95.283%\n",
      "\n",
      "EPOCH 51 ...\n",
      "Validation Accuracy = 95.057%\n",
      "\n",
      "EPOCH 52 ...\n",
      "Validation Accuracy = 95.737%\n",
      "\n",
      "EPOCH 53 ...\n",
      "Validation Accuracy = 95.578%\n",
      "\n",
      "EPOCH 54 ...\n",
      "Validation Accuracy = 95.420%\n",
      "\n",
      "EPOCH 55 ...\n",
      "Validation Accuracy = 95.805%\n",
      "\n",
      "EPOCH 56 ...\n",
      "Validation Accuracy = 95.556%\n",
      "\n",
      "EPOCH 57 ...\n",
      "Validation Accuracy = 95.102%\n",
      "\n",
      "EPOCH 58 ...\n",
      "Validation Accuracy = 96.032%\n",
      "\n",
      "EPOCH 59 ...\n",
      "Validation Accuracy = 95.737%\n",
      "\n",
      "EPOCH 60 ...\n",
      "Validation Accuracy = 96.145%\n",
      "\n",
      "EPOCH 61 ...\n",
      "Validation Accuracy = 94.943%\n",
      "\n",
      "EPOCH 62 ...\n",
      "Validation Accuracy = 95.578%\n",
      "\n",
      "EPOCH 63 ...\n",
      "Validation Accuracy = 96.100%\n",
      "\n",
      "EPOCH 64 ...\n",
      "Validation Accuracy = 95.850%\n",
      "\n",
      "EPOCH 65 ...\n",
      "Validation Accuracy = 95.510%\n",
      "\n",
      "EPOCH 66 ...\n",
      "Validation Accuracy = 95.306%\n",
      "\n",
      "EPOCH 67 ...\n",
      "Validation Accuracy = 95.578%\n",
      "\n",
      "EPOCH 68 ...\n",
      "Validation Accuracy = 95.624%\n",
      "\n",
      "EPOCH 69 ...\n",
      "Validation Accuracy = 95.669%\n",
      "\n",
      "EPOCH 70 ...\n",
      "Validation Accuracy = 95.737%\n",
      "\n",
      "EPOCH 71 ...\n",
      "Validation Accuracy = 96.032%\n",
      "\n",
      "EPOCH 72 ...\n",
      "Validation Accuracy = 95.760%\n",
      "\n",
      "EPOCH 73 ...\n",
      "Validation Accuracy = 95.578%\n",
      "\n",
      "EPOCH 74 ...\n",
      "Validation Accuracy = 96.168%\n",
      "\n",
      "EPOCH 75 ...\n",
      "Validation Accuracy = 95.125%\n",
      "\n",
      "EPOCH 76 ...\n",
      "Validation Accuracy = 95.986%\n",
      "\n",
      "EPOCH 77 ...\n",
      "Validation Accuracy = 96.372%\n",
      "\n",
      "EPOCH 78 ...\n",
      "Validation Accuracy = 95.737%\n",
      "\n",
      "EPOCH 79 ...\n",
      "Validation Accuracy = 95.873%\n",
      "\n",
      "EPOCH 80 ...\n",
      "Validation Accuracy = 95.941%\n",
      "\n",
      "EPOCH 81 ...\n",
      "Validation Accuracy = 95.805%\n",
      "\n",
      "EPOCH 82 ...\n",
      "Validation Accuracy = 96.077%\n",
      "\n",
      "EPOCH 83 ...\n",
      "Validation Accuracy = 95.692%\n",
      "\n",
      "EPOCH 84 ...\n",
      "Validation Accuracy = 96.054%\n",
      "\n",
      "EPOCH 85 ...\n",
      "Validation Accuracy = 95.850%\n",
      "\n",
      "EPOCH 86 ...\n",
      "Validation Accuracy = 95.873%\n",
      "\n",
      "EPOCH 87 ...\n",
      "Validation Accuracy = 96.327%\n",
      "\n",
      "EPOCH 88 ...\n",
      "Validation Accuracy = 96.054%\n",
      "\n",
      "EPOCH 89 ...\n",
      "Validation Accuracy = 95.760%\n",
      "\n",
      "EPOCH 90 ...\n",
      "Validation Accuracy = 95.737%\n",
      "\n",
      "EPOCH 91 ...\n",
      "Validation Accuracy = 95.760%\n",
      "\n",
      "EPOCH 92 ...\n",
      "Validation Accuracy = 95.714%\n",
      "\n",
      "EPOCH 93 ...\n",
      "Validation Accuracy = 95.918%\n",
      "\n",
      "EPOCH 94 ...\n",
      "Validation Accuracy = 95.896%\n",
      "\n",
      "EPOCH 95 ...\n",
      "Validation Accuracy = 96.009%\n",
      "\n",
      "EPOCH 96 ...\n",
      "Validation Accuracy = 95.918%\n",
      "\n",
      "EPOCH 97 ...\n",
      "Validation Accuracy = 95.646%\n",
      "\n",
      "EPOCH 98 ...\n",
      "Validation Accuracy = 96.236%\n",
      "\n",
      "EPOCH 99 ...\n",
      "Validation Accuracy = 95.283%\n",
      "\n",
      "EPOCH 100 ...\n",
      "Validation Accuracy = 96.281%\n",
      "\n",
      "Model saved\n"
     ]
    }
   ],
   "source": [
    "with tf.Session() as sess:\n",
    "    sess.run(tf.global_variables_initializer())\n",
    "    numExamples = len(X_train)\n",
    "    \n",
    "    print(\"Training...\")\n",
    "    print()\n",
    "    for i in range(EPOCHS):\n",
    "        X_train, y_train = shuffle(X_train, y_train)\n",
    "        for offset in range(0, numExamples, BATCH_SIZE):\n",
    "            end = offset + BATCH_SIZE\n",
    "            xBatch, yBatch = X_train[offset:end], y_train[offset:end]\n",
    "            sess.run(trainingOperation, feed_dict={x: xBatch, y: yBatch, keepProb: KEEP_PROB})\n",
    "            \n",
    "        validationAccuracy = evaluate(X_valid, y_valid)\n",
    "        print(\"EPOCH {} ...\".format(i+1))\n",
    "        print(\"Validation Accuracy = {:.3f}%\".format(validationAccuracy * 100))\n",
    "        print(\"\")\n",
    "        \n",
    "    saver.save(sess, './lenet')\n",
    "    print(\"Model saved\")"
   ]
  },
  {
   "cell_type": "markdown",
   "metadata": {},
   "source": [
    "### Test the Model"
   ]
  },
  {
   "cell_type": "markdown",
   "metadata": {},
   "source": [
    "A validation set can be used to assess how well the model is performing. A low accuracy on the training and validation\n",
    "sets imply underfitting. A high accuracy on the training set but low accuracy on the validation set implies overfitting."
   ]
  },
  {
   "cell_type": "code",
   "execution_count": 35,
   "metadata": {},
   "outputs": [
    {
     "name": "stdout",
     "output_type": "stream",
     "text": [
      "INFO:tensorflow:Restoring parameters from ./lenet\n",
      "Test Accuracy = 0.943\n"
     ]
    }
   ],
   "source": [
    "with tf.Session() as sess:\n",
    "    sess.run(tf.global_variables_initializer())\n",
    "    openSession = tf.train.import_meta_graph('./lenet.meta')\n",
    "    openSession.restore(sess, \"./lenet\")\n",
    "    test_accuracy = evaluate(X_test, y_test)\n",
    "    print(\"Test Accuracy = {:.3f}\".format(test_accuracy))"
   ]
  },
  {
   "cell_type": "markdown",
   "metadata": {},
   "source": [
    "---\n",
    "\n",
    "## Step 3: Test a Model on New Images\n",
    "\n",
    "To give yourself more insight into how your model is working, download at least five pictures of German traffic signs from the web and use your model to predict the traffic sign type.\n",
    "\n",
    "You may find `signnames.csv` useful as it contains mappings from the class id (integer) to the actual sign name."
   ]
  },
  {
   "cell_type": "markdown",
   "metadata": {},
   "source": [
    "### Load and Output the Images"
   ]
  },
  {
   "cell_type": "code",
   "execution_count": 13,
   "metadata": {},
   "outputs": [
    {
     "data": {
      "image/png": "[encoded data removed]",
      "text/plain": [
       "<matplotlib.figure.Figure at 0x1f62e6fe6d8>"
      ]
     },
     "metadata": {},
     "output_type": "display_data"
    },
    {
     "data": {
      "image/png": "[encoded data removed]",
      "text/plain": [
       "<matplotlib.figure.Figure at 0x1f630040ba8>"
      ]
     },
     "metadata": {},
     "output_type": "display_data"
    },
    {
     "data": {
      "image/png": "[encoded data removed]",
      "text/plain": [
       "<matplotlib.figure.Figure at 0x1f627d4bda0>"
      ]
     },
     "metadata": {},
     "output_type": "display_data"
    },
    {
     "data": {
      "image/png": "[encoded data removed]",
      "text/plain": [
       "<matplotlib.figure.Figure at 0x1f634c99400>"
      ]
     },
     "metadata": {},
     "output_type": "display_data"
    },
    {
     "data": {
      "image/png": "[encoded data removed]",
      "text/plain": [
       "<matplotlib.figure.Figure at 0x1f62e79c7b8>"
      ]
     },
     "metadata": {},
     "output_type": "display_data"
    }
   ],
   "source": [
    "### Load the images and plot them here.\n",
    "### Feel free to use as many code cells as needed.\n",
    "import os\n",
    "import cv2\n",
    "xList = []\n",
    "\n",
    "for images in os.listdir(\"New_Images/\"):\n",
    "    readInImage = cv2.imread(\"New_Images/\" + images)\n",
    "    resize = cv2.resize(readInImage, (32, 32))\n",
    "    plt.figure()\n",
    "    colorConverted = cv2.cvtColor(resize, cv2.COLOR_BGR2RGB)\n",
    "    plt.imshow(colorConverted)\n",
    "    xList.append(colorConverted)\n",
    "\n",
    "xList = np.asarray(xList)\n",
    "xMyGray = np.sum(xList/3, axis = 3, keepdims = True)\n",
    "xMyNormalized = (xMyGray - 128.) / 128."
   ]
  },
  {
   "cell_type": "markdown",
   "metadata": {},
   "source": [
    "### Predict the Sign Type for Each Image"
   ]
  },
  {
   "cell_type": "code",
   "execution_count": 14,
   "metadata": {
    "collapsed": true
   },
   "outputs": [],
   "source": [
    "def sign_identifier(inputSignNum):\n",
    "    for i in signClassList:\n",
    "        if i[0] == str(inputSignNum):\n",
    "            return i[1]"
   ]
  },
  {
   "cell_type": "code",
   "execution_count": 56,
   "metadata": {},
   "outputs": [
    {
     "name": "stdout",
     "output_type": "stream",
     "text": [
      "INFO:tensorflow:Restoring parameters from ./lenet\n",
      "--------------------------------------------------\n",
      "Image 1 Predicted Class:\n",
      "> 1 - Speed limit (30km/h)\n",
      "\n",
      "Actual Class: 1 - Speed limit (30km/h)\n",
      "--------------------------------------------------\n",
      "--------------------------------------------------\n",
      "Image 2 Predicted Class:\n",
      "> 13 - Yield\n",
      "\n",
      "Actual Class: 13 - Yield\n",
      "--------------------------------------------------\n",
      "--------------------------------------------------\n",
      "Image 3 Predicted Class:\n",
      "> 1 - Speed limit (30km/h)\n",
      "\n",
      "Actual Class: 14 - Stop\n",
      "--------------------------------------------------\n",
      "--------------------------------------------------\n",
      "Image 4 Predicted Class:\n",
      "> 1 - Speed limit (30km/h)\n",
      "\n",
      "Actual Class: 4 - Speed limit (70km/h)\n",
      "--------------------------------------------------\n",
      "--------------------------------------------------\n",
      "Image 5 Predicted Class:\n",
      "> 8 - Speed limit (120km/h)\n",
      "\n",
      "Actual Class: 8 - Speed limit (120km/h)\n",
      "--------------------------------------------------\n"
     ]
    }
   ],
   "source": [
    "### Run the predictions here and use the model to output the prediction for each image.\n",
    "### Make sure to pre-process the images with the same pre-processing pipeline used earlier.\n",
    "### Feel free to use as many code cells as needed.\n",
    "actualClass = [1,13,14,4,8]\n",
    "\n",
    "with tf.Session() as sess:\n",
    "    sess.run(tf.global_variables_initializer())\n",
    "    openSession2 = tf.train.import_meta_graph('./lenet.meta')\n",
    "    openSession2.restore(sess, \"./lenet\")\n",
    "    pred = sess.run(logits, feed_dict={x: xMyNormalized, keepProb : 1.0})\n",
    "    pred = sess.run(tf.nn.top_k(pred, k=5, sorted = True))\n",
    "    for i in range (0,len(xMyNormalized)):\n",
    "        print(\"-\"*50)\n",
    "        print(\"Image\", i + 1, \"Predicted Class:\")\n",
    "        print(\">\", pred[1][i][0],\"-\",sign_identifier(pred[1][i][0]))\n",
    "        print()\n",
    "        print(\"Actual Class:\",actualClass[i],\"-\",sign_identifier(actualClass[i]))\n",
    "        print(\"-\"*50)"
   ]
  },
  {
   "cell_type": "markdown",
   "metadata": {},
   "source": [
    "### Analyze Performance"
   ]
  },
  {
   "cell_type": "code",
   "execution_count": 55,
   "metadata": {},
   "outputs": [
    {
     "name": "stdout",
     "output_type": "stream",
     "text": [
      "INFO:tensorflow:Restoring parameters from ./lenet\n",
      "--------------------------------------------------\n",
      "Percent Correct = 60.000%\n",
      "--------------------------------------------------\n"
     ]
    }
   ],
   "source": [
    "### Calculate the accuracy for these 5 new images. \n",
    "### For example, if the model predicted 1 out of 5 signs correctly, it's 20% accurate on these new images.\n",
    "\n",
    "with tf.Session() as sess:\n",
    "    sess.run(tf.global_variables_initializer())\n",
    "    openSession3 = tf.train.import_meta_graph('./lenet.meta')\n",
    "    openSession3.restore(sess, \"./lenet\")\n",
    "    test_accuracy = evaluate(xMyNormalized, actualClass)\n",
    "    print(\"-\"*50)\n",
    "    print(\"Percent Correct = {:.3f}%\".format(test_accuracy * 100))\n",
    "    print(\"-\"*50)"
   ]
  },
  {
   "cell_type": "markdown",
   "metadata": {},
   "source": [
    "### Output Top 5 Softmax Probabilities For Each Image Found on the Web"
   ]
  },
  {
   "cell_type": "code",
   "execution_count": 54,
   "metadata": {},
   "outputs": [
    {
     "name": "stdout",
     "output_type": "stream",
     "text": [
      "INFO:tensorflow:Restoring parameters from ./lenet\n",
      "\n",
      "--------------------------------------------------------------------\n",
      "           Probabilities and Class Predictions:\n",
      "--------------------------------------------------------------------\n",
      "\n"
     ]
    },
    {
     "data": {
      "image/png": "[encoded data removed]",
      "text/plain": [
       "<matplotlib.figure.Figure at 0x1f7027daf28>"
      ]
     },
     "metadata": {},
     "output_type": "display_data"
    },
    {
     "name": "stdout",
     "output_type": "stream",
     "text": [
      "Speed limit (30km/h)           100.0000000000%\n",
      "Speed limit (50km/h)             0.0000000000%\n",
      "Speed limit (70km/h)             0.0000000000%\n",
      "Stop                             0.0000000000%\n",
      "Speed limit (60km/h)             0.0000000000%\n",
      "\n",
      "----------------------------------------------------------------------\n"
     ]
    },
    {
     "data": {
      "image/png": "[encoded data removed]",
      "text/plain": [
       "<matplotlib.figure.Figure at 0x1f700daa5c0>"
      ]
     },
     "metadata": {},
     "output_type": "display_data"
    },
    {
     "name": "stdout",
     "output_type": "stream",
     "text": [
      "Yield                          100.0000000000%\n",
      "Speed limit (20km/h)             0.0000000000%\n",
      "Speed limit (30km/h)             0.0000000000%\n",
      "Speed limit (50km/h)             0.0000000000%\n",
      "Speed limit (60km/h)             0.0000000000%\n",
      "\n",
      "----------------------------------------------------------------------\n"
     ]
    },
    {
     "data": {
      "image/png": "[encoded data removed]",
      "text/plain": [
       "<matplotlib.figure.Figure at 0x1f700b9bc50>"
      ]
     },
     "metadata": {},
     "output_type": "display_data"
    },
    {
     "name": "stdout",
     "output_type": "stream",
     "text": [
      "Speed limit (30km/h)            99.9953508377%\n",
      "Stop                             0.0033806267%\n",
      "Yield                            0.0012675282%\n",
      "Speed limit (50km/h)             0.0000002531%\n",
      "Keep left                        0.0000000453%\n",
      "\n",
      "----------------------------------------------------------------------\n"
     ]
    },
    {
     "data": {
      "image/png": "[encoded data removed]",
      "text/plain": [
       "<matplotlib.figure.Figure at 0x1f6d41d0898>"
      ]
     },
     "metadata": {},
     "output_type": "display_data"
    },
    {
     "name": "stdout",
     "output_type": "stream",
     "text": [
      "Speed limit (30km/h)            99.9999403954%\n",
      "Speed limit (60km/h)             0.0000351977%\n",
      "Stop                             0.0000248258%\n",
      "Speed limit (70km/h)             0.0000027374%\n",
      "Turn right ahead                 0.0000000031%\n",
      "\n",
      "----------------------------------------------------------------------\n"
     ]
    },
    {
     "data": {
      "image/png": "[encoded data removed]",
      "text/plain": [
       "<matplotlib.figure.Figure at 0x1f6fe1124a8>"
      ]
     },
     "metadata": {},
     "output_type": "display_data"
    },
    {
     "name": "stdout",
     "output_type": "stream",
     "text": [
      "Speed limit (120km/h)           73.9777505398%\n",
      "Speed limit (20km/h)            22.8198796511%\n",
      "Speed limit (30km/h)             2.8353558853%\n",
      "Go straight or right             0.2367284149%\n",
      "Keep right                       0.0944264291%\n",
      "\n",
      "----------------------------------------------------------------------\n"
     ]
    }
   ],
   "source": [
    "### Print out the top five softmax probabilities for the predictions on the German traffic sign images found on the web. \n",
    "### Feel free to use as many code cells as needed.\n",
    "\n",
    "with tf.Session() as sess:\n",
    "    sess.run(tf.global_variables_initializer())\n",
    "    openSession4 = tf.train.import_meta_graph('./lenet.meta')\n",
    "    openSession4.restore(sess, \"./lenet\")\n",
    "    softmax = tf.nn.softmax(logits)\n",
    "    topK = tf.nn.top_k(softmax, k=5)\n",
    "    pred = sess.run(softmax, feed_dict={x: xMyNormalized, keepProb: 1.0})\n",
    "    pred = sess.run(topK, feed_dict={x: xMyNormalized, keepProb: 1.0})\n",
    "    print()\n",
    "    print(\"-\" * 68)\n",
    "    print(\" \" * 10, \"Probabilities and Class Predictions:\")\n",
    "    print(\"-\" * 68)\n",
    "    print()\n",
    "    \n",
    "    for i in range (0,len(xMyNormalized)):\n",
    "        plt.imshow(xMyNormalized[i].squeeze(), cmap='gray')\n",
    "        plt.show()\n",
    "        for j in range (0,len(xMyNormalized)):\n",
    "            print('{:<30} {:>14.10f}%'.format(sign_identifier(pred[1][i][j]), pred[0][i][j]*100))\n",
    "        print()\n",
    "        print(\"-\" * 70)"
   ]
  },
  {
   "cell_type": "markdown",
   "metadata": {},
   "source": [
    "### Project Writeup\n",
    "\n",
    "Once you have completed the code implementation, document your results in a project writeup using this [template](https://github.com/udacity/CarND-Traffic-Sign-Classifier-Project/blob/master/writeup_template.md) as a guide. The writeup can be in a markdown or pdf file. "
   ]
  },
  {
   "cell_type": "markdown",
   "metadata": {},
   "source": [
    "> **Note**: Once you have completed all of the code implementations and successfully answered each question above, you may finalize your work by exporting the iPython Notebook as an HTML document. You can do this by using the menu above and navigating to  \\n\",\n",
    "    \"**File -> Download as -> HTML (.html)**. Include the finished document along with this notebook as your submission."
   ]
  }
 ],
 "metadata": {
  "anaconda-cloud": {},
  "kernelspec": {
   "display_name": "Python 3",
   "language": "python",
   "name": "python3"
  },
  "language_info": {
   "codemirror_mode": {
    "name": "ipython",
    "version": 3
   },
   "file_extension": ".py",
   "mimetype": "text/x-python",
   "name": "python",
   "nbconvert_exporter": "python",
   "pygments_lexer": "ipython3",
   "version": "3.5.2"
  },
  "widgets": {
   "state": {},
   "version": "1.1.2"
  }
 },
 "nbformat": 4,
 "nbformat_minor": 1
}
